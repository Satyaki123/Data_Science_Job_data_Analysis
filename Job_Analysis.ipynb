{
 "cells": [
  {
   "cell_type": "markdown",
   "metadata": {},
   "source": [
    "# Data Description"
   ]
  },
  {
   "cell_type": "markdown",
   "metadata": {},
   "source": [
    "Mid-Term Project 601\n",
    "\n",
    "https://data.world/jobspikr/10000-data-scientist-job-postings-from-the-usa.This data set is used to analyze the jobs of Data Scientists all over the USA.\n",
    "\n",
    "This data is extracted using JobsPikr - a job data delivery platform that extracts job data from job boards across the globe.\n",
    "\n",
    "The dataset is from 2019(March - October), size is 48.5 MB.\n",
    "\n",
    "There is no permission required to download and use this data.\n",
    "\n",
    "There is not much Analysis done on this data, and I thought it would be a good pick.\n",
    "\n",
    "The data has 10,000 rows, 22 columns."
   ]
  },
  {
   "cell_type": "code",
   "execution_count": 131,
   "metadata": {},
   "outputs": [],
   "source": [
    "import pandas as pd\n",
    "import matplotlib.pyplot as plt\n",
    "import numpy as np\n",
    "from urllib.parse import urlparse"
   ]
  },
  {
   "cell_type": "code",
   "execution_count": 132,
   "metadata": {},
   "outputs": [
    {
     "data": {
      "text/plain": [
       "(10000, 22)"
      ]
     },
     "execution_count": 132,
     "metadata": {},
     "output_type": "execute_result"
    }
   ],
   "source": [
    "# Reading CSV File\n",
    "data = pd.read_csv('data_scientist_united_states_job_postings_jobspikr.csv')\n",
    "data.shape  # rows , column"
   ]
  },
  {
   "cell_type": "code",
   "execution_count": 133,
   "metadata": {
    "scrolled": true
   },
   "outputs": [
    {
     "data": {
      "text/html": [
       "<div>\n",
       "<style scoped>\n",
       "    .dataframe tbody tr th:only-of-type {\n",
       "        vertical-align: middle;\n",
       "    }\n",
       "\n",
       "    .dataframe tbody tr th {\n",
       "        vertical-align: top;\n",
       "    }\n",
       "\n",
       "    .dataframe thead th {\n",
       "        text-align: right;\n",
       "    }\n",
       "</style>\n",
       "<table border=\"1\" class=\"dataframe\">\n",
       "  <thead>\n",
       "    <tr style=\"text-align: right;\">\n",
       "      <th></th>\n",
       "      <th>crawl_timestamp</th>\n",
       "      <th>url</th>\n",
       "      <th>job_title</th>\n",
       "      <th>category</th>\n",
       "      <th>company_name</th>\n",
       "      <th>city</th>\n",
       "      <th>state</th>\n",
       "      <th>country</th>\n",
       "      <th>inferred_city</th>\n",
       "      <th>inferred_state</th>\n",
       "      <th>...</th>\n",
       "      <th>job_description</th>\n",
       "      <th>job_type</th>\n",
       "      <th>salary_offered</th>\n",
       "      <th>job_board</th>\n",
       "      <th>geo</th>\n",
       "      <th>cursor</th>\n",
       "      <th>contact_email</th>\n",
       "      <th>contact_phone_number</th>\n",
       "      <th>uniq_id</th>\n",
       "      <th>html_job_description</th>\n",
       "    </tr>\n",
       "  </thead>\n",
       "  <tbody>\n",
       "    <tr>\n",
       "      <th>0</th>\n",
       "      <td>2019-02-06 05:26:22 +0000</td>\n",
       "      <td>https://www.indeed.com/viewjob?jk=fd83355c2b23...</td>\n",
       "      <td>Enterprise Data Scientist I</td>\n",
       "      <td>Accounting/Finance</td>\n",
       "      <td>Farmers Insurance Group</td>\n",
       "      <td>Woodland Hills</td>\n",
       "      <td>CA</td>\n",
       "      <td>Usa</td>\n",
       "      <td>Woodland hills</td>\n",
       "      <td>California</td>\n",
       "      <td>...</td>\n",
       "      <td>Read what people are saying about working here...</td>\n",
       "      <td>Undefined</td>\n",
       "      <td>NaN</td>\n",
       "      <td>indeed</td>\n",
       "      <td>usa</td>\n",
       "      <td>1549432819114777</td>\n",
       "      <td>NaN</td>\n",
       "      <td>NaN</td>\n",
       "      <td>3b6c6acfcba6135a31c83bd7ea493b18</td>\n",
       "      <td>NaN</td>\n",
       "    </tr>\n",
       "    <tr>\n",
       "      <th>1</th>\n",
       "      <td>2019-02-06 05:33:41 +0000</td>\n",
       "      <td>https://www.dice.com/jobs/detail/Data-Scientis...</td>\n",
       "      <td>Data Scientist</td>\n",
       "      <td>NaN</td>\n",
       "      <td>Luxoft USA Inc</td>\n",
       "      <td>Middletown</td>\n",
       "      <td>NJ</td>\n",
       "      <td>Usa</td>\n",
       "      <td>Middletown</td>\n",
       "      <td>New jersey</td>\n",
       "      <td>...</td>\n",
       "      <td>We have an immediate opening for a Sharp Data ...</td>\n",
       "      <td>Undefined</td>\n",
       "      <td>NaN</td>\n",
       "      <td>dice</td>\n",
       "      <td>usa</td>\n",
       "      <td>1549432819122106</td>\n",
       "      <td>NaN</td>\n",
       "      <td>NaN</td>\n",
       "      <td>741727428839ae7ada852eebef29b0fe</td>\n",
       "      <td>NaN</td>\n",
       "    </tr>\n",
       "    <tr>\n",
       "      <th>2</th>\n",
       "      <td>2019-02-06 05:33:35 +0000</td>\n",
       "      <td>https://www.dice.com/jobs/detail/Data-Scientis...</td>\n",
       "      <td>Data Scientist</td>\n",
       "      <td>NaN</td>\n",
       "      <td>Cincinnati Bell Technology Solutions</td>\n",
       "      <td>New York</td>\n",
       "      <td>NY</td>\n",
       "      <td>Usa</td>\n",
       "      <td>New york</td>\n",
       "      <td>New york</td>\n",
       "      <td>...</td>\n",
       "      <td>Candidates should have the following backgroun...</td>\n",
       "      <td>Full Time</td>\n",
       "      <td>NaN</td>\n",
       "      <td>dice</td>\n",
       "      <td>usa</td>\n",
       "      <td>1549432819236156</td>\n",
       "      <td>NaN</td>\n",
       "      <td>NaN</td>\n",
       "      <td>cdc9ef9a1de327ccdc19cc0d07dbbb37</td>\n",
       "      <td>NaN</td>\n",
       "    </tr>\n",
       "    <tr>\n",
       "      <th>3</th>\n",
       "      <td>2019-02-06 05:33:42 +0000</td>\n",
       "      <td>https://www.indeed.com/viewjob?jk=841edd86ead2...</td>\n",
       "      <td>Data Scientist, Aladdin Wealth Tech, Associate...</td>\n",
       "      <td>Accounting/Finance</td>\n",
       "      <td>BlackRock</td>\n",
       "      <td>New York</td>\n",
       "      <td>NY 10055 (Midtown area)</td>\n",
       "      <td>Usa</td>\n",
       "      <td>New york</td>\n",
       "      <td>New york</td>\n",
       "      <td>...</td>\n",
       "      <td>Read what people are saying about working here...</td>\n",
       "      <td>Undefined</td>\n",
       "      <td>NaN</td>\n",
       "      <td>indeed</td>\n",
       "      <td>usa</td>\n",
       "      <td>1549432819259473</td>\n",
       "      <td>NaN</td>\n",
       "      <td>NaN</td>\n",
       "      <td>1c8541cd2c2c924f9391c7d3f526f64e</td>\n",
       "      <td>NaN</td>\n",
       "    </tr>\n",
       "    <tr>\n",
       "      <th>4</th>\n",
       "      <td>2019-02-06 05:48:23 +0000</td>\n",
       "      <td>https://job-openings.monster.com/senior-data-s...</td>\n",
       "      <td>Senior Data Scientist</td>\n",
       "      <td>biotech</td>\n",
       "      <td>CyberCoders</td>\n",
       "      <td>Charlotte</td>\n",
       "      <td>NC</td>\n",
       "      <td>Usa</td>\n",
       "      <td>Charlotte</td>\n",
       "      <td>North carolina</td>\n",
       "      <td>...</td>\n",
       "      <td>We are seeking an extraordinary Data Scientist...</td>\n",
       "      <td>Full Time</td>\n",
       "      <td>NaN</td>\n",
       "      <td>monster</td>\n",
       "      <td>usa</td>\n",
       "      <td>1549436429015957</td>\n",
       "      <td>NaN</td>\n",
       "      <td>NaN</td>\n",
       "      <td>445652a560a5441060857853cf267470</td>\n",
       "      <td>NaN</td>\n",
       "    </tr>\n",
       "  </tbody>\n",
       "</table>\n",
       "<p>5 rows × 22 columns</p>\n",
       "</div>"
      ],
      "text/plain": [
       "             crawl_timestamp  \\\n",
       "0  2019-02-06 05:26:22 +0000   \n",
       "1  2019-02-06 05:33:41 +0000   \n",
       "2  2019-02-06 05:33:35 +0000   \n",
       "3  2019-02-06 05:33:42 +0000   \n",
       "4  2019-02-06 05:48:23 +0000   \n",
       "\n",
       "                                                 url  \\\n",
       "0  https://www.indeed.com/viewjob?jk=fd83355c2b23...   \n",
       "1  https://www.dice.com/jobs/detail/Data-Scientis...   \n",
       "2  https://www.dice.com/jobs/detail/Data-Scientis...   \n",
       "3  https://www.indeed.com/viewjob?jk=841edd86ead2...   \n",
       "4  https://job-openings.monster.com/senior-data-s...   \n",
       "\n",
       "                                           job_title            category  \\\n",
       "0                        Enterprise Data Scientist I  Accounting/Finance   \n",
       "1                                     Data Scientist                 NaN   \n",
       "2                                     Data Scientist                 NaN   \n",
       "3  Data Scientist, Aladdin Wealth Tech, Associate...  Accounting/Finance   \n",
       "4                              Senior Data Scientist             biotech   \n",
       "\n",
       "                           company_name            city  \\\n",
       "0               Farmers Insurance Group  Woodland Hills   \n",
       "1                        Luxoft USA Inc      Middletown   \n",
       "2  Cincinnati Bell Technology Solutions        New York   \n",
       "3                             BlackRock        New York   \n",
       "4                           CyberCoders       Charlotte   \n",
       "\n",
       "                     state country   inferred_city  inferred_state  ...  \\\n",
       "0                       CA     Usa  Woodland hills      California  ...   \n",
       "1                       NJ     Usa      Middletown      New jersey  ...   \n",
       "2                       NY     Usa        New york        New york  ...   \n",
       "3  NY 10055 (Midtown area)     Usa        New york        New york  ...   \n",
       "4                       NC     Usa       Charlotte  North carolina  ...   \n",
       "\n",
       "                                     job_description   job_type  \\\n",
       "0  Read what people are saying about working here...  Undefined   \n",
       "1  We have an immediate opening for a Sharp Data ...  Undefined   \n",
       "2  Candidates should have the following backgroun...  Full Time   \n",
       "3  Read what people are saying about working here...  Undefined   \n",
       "4  We are seeking an extraordinary Data Scientist...  Full Time   \n",
       "\n",
       "  salary_offered job_board  geo            cursor contact_email  \\\n",
       "0            NaN    indeed  usa  1549432819114777           NaN   \n",
       "1            NaN      dice  usa  1549432819122106           NaN   \n",
       "2            NaN      dice  usa  1549432819236156           NaN   \n",
       "3            NaN    indeed  usa  1549432819259473           NaN   \n",
       "4            NaN   monster  usa  1549436429015957           NaN   \n",
       "\n",
       "   contact_phone_number                           uniq_id html_job_description  \n",
       "0                   NaN  3b6c6acfcba6135a31c83bd7ea493b18                  NaN  \n",
       "1                   NaN  741727428839ae7ada852eebef29b0fe                  NaN  \n",
       "2                   NaN  cdc9ef9a1de327ccdc19cc0d07dbbb37                  NaN  \n",
       "3                   NaN  1c8541cd2c2c924f9391c7d3f526f64e                  NaN  \n",
       "4                   NaN  445652a560a5441060857853cf267470                  NaN  \n",
       "\n",
       "[5 rows x 22 columns]"
      ]
     },
     "execution_count": 133,
     "metadata": {},
     "output_type": "execute_result"
    }
   ],
   "source": [
    "data.head() # DataFrame"
   ]
  },
  {
   "cell_type": "markdown",
   "metadata": {},
   "source": [
    "# Data inconsistencies and Shortcomings"
   ]
  },
  {
   "cell_type": "markdown",
   "metadata": {},
   "source": [
    "1)  category column has 882 Nan Values.<br>\n",
    "2)  Inferred City is just creating a replica for the City Column.<br>\n",
    "3)  Inferred_state is just creating a replica for the State_Column.<br>\n",
    "4)  Country and inferred_country have all the value are redundant.<br>\n",
    "5)  contact_email has all the values as Nan.<br>\n",
    "6)  job_board column has 690 Nan Values.<br>\n",
    "7)  Geo column has 700 Nan Values.<br>\n",
    "8)  salary_offered column has 9403 Nan Values and is a String type.<br>\n",
    "9)  contact_phone_number column has 9584 Nan Values.<br>\n",
    "10) html_job_description column has 8401 Nan Values.<br>\n",
    "11) City column has 249 Nan Values<br>\n",
    "12) state column has 416 Nan Values<br>\n",
    "13) company_name column has 1 Nan Values<br>\n",
    "14) crawl_timestamp column is String.<br>\n",
    "15) Job_type column has value Undefined."
   ]
  },
  {
   "cell_type": "markdown",
   "metadata": {},
   "source": [
    "# Data Cleaning"
   ]
  },
  {
   "cell_type": "markdown",
   "metadata": {},
   "source": [
    "1) Dropping contact_email column as it has no data.<br>\n",
    "2) Dropping Country column as it has same data in all rows.<br>\n",
    "3) Dropping contact_phone_number as we are not going to use it in analysis.<br>\n",
    "4) Dropping country,inferred_country column as we all the columns are the USA only.<br>\n",
    "5) Dropping inferred_city,inferred_state column as it is deduced based on some prior analysis on data.<br>\n",
    "6) Impute value of Salary offered based on mode of it because it containded many Nan Value<br>\n",
    "7) Impute value of Company because it containded 1 Nan Value.<br>\n",
    "8) Dropping html_job_description as we are not going to use it in analysis.<br>\n",
    "9) Dropping geo as we are not going to use it in analysis.<br>\n",
    "10) Impute value of category offered because it contained Nan Values.<br>\n",
    "11) Impute Value of city name because it contained Nan Values.<br>\n",
    "12) Impute Value of state name because it contained Nan Values.<br>\n",
    "13) Dropped Url column as we extracted Domain from the Url which we can use in our analysis"
   ]
  },
  {
   "cell_type": "code",
   "execution_count": 134,
   "metadata": {},
   "outputs": [],
   "source": [
    "# Dropping above mentioned Columns\n",
    "data.drop(labels = ['contact_email','country','contact_phone_number','inferred_country','inferred_city','inferred_state','html_job_description','geo'],axis = 1,inplace = True)"
   ]
  },
  {
   "cell_type": "markdown",
   "metadata": {},
   "source": [
    "**extracting domain from the URL using urlparse**"
   ]
  },
  {
   "cell_type": "code",
   "execution_count": 135,
   "metadata": {},
   "outputs": [],
   "source": [
    "data['job_board'] =  [urlparse(i).netloc for i in data['url']]"
   ]
  },
  {
   "cell_type": "markdown",
   "metadata": {},
   "source": [
    "**dropped URL column as I extracted domain from the URL which will help me in the analysis**"
   ]
  },
  {
   "cell_type": "code",
   "execution_count": 136,
   "metadata": {},
   "outputs": [],
   "source": [
    "data.drop(labels = ['url'] ,axis = 1,inplace = True)"
   ]
  },
  {
   "cell_type": "code",
   "execution_count": 137,
   "metadata": {},
   "outputs": [],
   "source": [
    "# Imputing each and every column which have a value Nan\n",
    "data['salary_offered'].fillna(data['salary_offered'].mode()[0],inplace = True)  # Imputing each and evry column which have a value Nan\n",
    "data['company_name'].fillna(data['company_name'].mode()[0],inplace = True)\n",
    "data['category'].fillna(data['category'].mode()[0],inplace = True)\n",
    "data['city'].fillna(data['city'].mode()[0],inplace = True)\n",
    "data['state'].fillna(data['state'].mode()[0],inplace = True)"
   ]
  },
  {
   "cell_type": "code",
   "execution_count": 138,
   "metadata": {},
   "outputs": [],
   "source": [
    "#Converting crawl timestamp dtype to datetime dtype\n",
    "data['crawl_timestamp'] = pd.to_datetime(data['crawl_timestamp'], format = '%Y-%m-%d %H:%M:%S +%f' ) "
   ]
  },
  {
   "cell_type": "markdown",
   "metadata": {},
   "source": [
    "# Data characterisation"
   ]
  },
  {
   "cell_type": "markdown",
   "metadata": {},
   "source": [
    "1) After cleaning the data we have 13 columns and 10000 rows<br>\n",
    "2) Data has got no Missing value<br>\n",
    "3) Information has been extracted from Url and copied to Job_board<br>\n",
    "4) crawl timestamp object Dtype has been converted to timedate Dtype<br>\n",
    "5) contact_email column has been dropped<br>\n",
    "6) All Nan values have been replaced by most_often occurring values<br>\n"
   ]
  },
  {
   "cell_type": "code",
   "execution_count": 139,
   "metadata": {},
   "outputs": [
    {
     "name": "stdout",
     "output_type": "stream",
     "text": [
      "<class 'pandas.core.frame.DataFrame'>\n",
      "RangeIndex: 10000 entries, 0 to 9999\n",
      "Data columns (total 13 columns):\n",
      " #   Column           Non-Null Count  Dtype         \n",
      "---  ------           --------------  -----         \n",
      " 0   crawl_timestamp  10000 non-null  datetime64[ns]\n",
      " 1   job_title        10000 non-null  object        \n",
      " 2   category         10000 non-null  object        \n",
      " 3   company_name     10000 non-null  object        \n",
      " 4   city             10000 non-null  object        \n",
      " 5   state            10000 non-null  object        \n",
      " 6   post_date        10000 non-null  object        \n",
      " 7   job_description  10000 non-null  object        \n",
      " 8   job_type         10000 non-null  object        \n",
      " 9   salary_offered   10000 non-null  object        \n",
      " 10  job_board        10000 non-null  object        \n",
      " 11  cursor           10000 non-null  int64         \n",
      " 12  uniq_id          10000 non-null  object        \n",
      "dtypes: datetime64[ns](1), int64(1), object(11)\n",
      "memory usage: 1015.8+ KB\n"
     ]
    }
   ],
   "source": [
    "data.info() # information about the data after cleaning"
   ]
  },
  {
   "cell_type": "code",
   "execution_count": 140,
   "metadata": {},
   "outputs": [
    {
     "data": {
      "text/plain": [
       "crawl_timestamp    0\n",
       "job_title          0\n",
       "category           0\n",
       "company_name       0\n",
       "city               0\n",
       "state              0\n",
       "post_date          0\n",
       "job_description    0\n",
       "job_type           0\n",
       "salary_offered     0\n",
       "job_board          0\n",
       "cursor             0\n",
       "uniq_id            0\n",
       "dtype: int64"
      ]
     },
     "execution_count": 140,
     "metadata": {},
     "output_type": "execute_result"
    }
   ],
   "source": [
    "data.isnull().sum() #Checking for Nan Values"
   ]
  },
  {
   "cell_type": "code",
   "execution_count": 141,
   "metadata": {},
   "outputs": [
    {
     "data": {
      "text/plain": [
       "(10000, 13)"
      ]
     },
     "execution_count": 141,
     "metadata": {},
     "output_type": "execute_result"
    }
   ],
   "source": [
    "data.shape  # Shape of Data"
   ]
  },
  {
   "cell_type": "markdown",
   "metadata": {},
   "source": [
    "# Data Aanalysis"
   ]
  },
  {
   "cell_type": "code",
   "execution_count": 142,
   "metadata": {},
   "outputs": [],
   "source": [
    "data['Counter'] = [1 for i in range(0,len(data['category']))]              # creating new Column Counter "
   ]
  },
  {
   "cell_type": "code",
   "execution_count": 143,
   "metadata": {},
   "outputs": [],
   "source": [
    "datascience_categories = data.groupby(['category']).sum()                   #creating a df\n",
    "datascience_categories.reset_index(inplace = True)"
   ]
  },
  {
   "cell_type": "markdown",
   "metadata": {},
   "source": [
    "**Droping the extra cursor column**"
   ]
  },
  {
   "cell_type": "code",
   "execution_count": 144,
   "metadata": {},
   "outputs": [],
   "source": [
    "datascience_categories.drop(labels = 'cursor', axis =1 , inplace = True)"
   ]
  },
  {
   "cell_type": "markdown",
   "metadata": {},
   "source": [
    "**The maximum category of data science jobs, listed is**"
   ]
  },
  {
   "cell_type": "code",
   "execution_count": 145,
   "metadata": {},
   "outputs": [
    {
     "data": {
      "text/html": [
       "<div>\n",
       "<style scoped>\n",
       "    .dataframe tbody tr th:only-of-type {\n",
       "        vertical-align: middle;\n",
       "    }\n",
       "\n",
       "    .dataframe tbody tr th {\n",
       "        vertical-align: top;\n",
       "    }\n",
       "\n",
       "    .dataframe thead th {\n",
       "        text-align: right;\n",
       "    }\n",
       "</style>\n",
       "<table border=\"1\" class=\"dataframe\">\n",
       "  <thead>\n",
       "    <tr style=\"text-align: right;\">\n",
       "      <th></th>\n",
       "      <th>category</th>\n",
       "      <th>Counter</th>\n",
       "    </tr>\n",
       "  </thead>\n",
       "  <tbody>\n",
       "    <tr>\n",
       "      <th>32</th>\n",
       "      <td>Computer-or-internet</td>\n",
       "      <td>2387</td>\n",
       "    </tr>\n",
       "  </tbody>\n",
       "</table>\n",
       "</div>"
      ],
      "text/plain": [
       "                category  Counter\n",
       "32  Computer-or-internet     2387"
      ]
     },
     "execution_count": 145,
     "metadata": {},
     "output_type": "execute_result"
    }
   ],
   "source": [
    "datascience_categories.iloc[datascience_categories.index[datascience_categories['Counter'] == max(datascience_categories['Counter'])].tolist()[0:4]]\n"
   ]
  },
  {
   "cell_type": "code",
   "execution_count": 146,
   "metadata": {},
   "outputs": [],
   "source": [
    "counter_size = 5\n",
    "Counter = sorted(datascience_categories['Counter'], reverse = True)[0:counter_size] #sorting to get Top Values\n",
    "category = []\n",
    "for i in range(0,len(Counter)):                                                # looping to get category with respect to Counter\n",
    "    category.append(datascience_categories.loc[datascience_categories['Counter'] == Counter[i] ,'category'].iloc[0])"
   ]
  },
  {
   "cell_type": "code",
   "execution_count": 147,
   "metadata": {},
   "outputs": [
    {
     "data": {
      "image/png": "[encoded data removed]",
      "text/plain": [
       "<Figure size 432x288 with 1 Axes>"
      ]
     },
     "metadata": {
      "needs_background": "light"
     },
     "output_type": "display_data"
    }
   ],
   "source": [
    "plt.bar(category,Counter, width = 0.3,color = 'black')                                 #plotting a bar chart\n",
    "plt.xticks(rotation=90)\n",
    "plt.title(f'Top {counter_size} Categories for data science jobs for year 2019 Feb to Oct')\n",
    "plt.xlabel('Category')\n",
    "plt.ylabel('No of Jobs')\n",
    "plt.show()"
   ]
  },
  {
   "cell_type": "code",
   "execution_count": 148,
   "metadata": {},
   "outputs": [],
   "source": [
    "State_by_jobs = data.groupby(['state']).sum().reset_index()                          #creating a df"
   ]
  },
  {
   "cell_type": "code",
   "execution_count": 149,
   "metadata": {},
   "outputs": [
    {
     "data": {
      "text/html": [
       "<div>\n",
       "<style scoped>\n",
       "    .dataframe tbody tr th:only-of-type {\n",
       "        vertical-align: middle;\n",
       "    }\n",
       "\n",
       "    .dataframe tbody tr th {\n",
       "        vertical-align: top;\n",
       "    }\n",
       "\n",
       "    .dataframe thead th {\n",
       "        text-align: right;\n",
       "    }\n",
       "</style>\n",
       "<table border=\"1\" class=\"dataframe\">\n",
       "  <thead>\n",
       "    <tr style=\"text-align: right;\">\n",
       "      <th></th>\n",
       "      <th>state</th>\n",
       "      <th>cursor</th>\n",
       "      <th>Counter</th>\n",
       "    </tr>\n",
       "  </thead>\n",
       "  <tbody>\n",
       "    <tr>\n",
       "      <th>23</th>\n",
       "      <td>CA</td>\n",
       "      <td>2967455687447162368</td>\n",
       "      <td>1901</td>\n",
       "    </tr>\n",
       "  </tbody>\n",
       "</table>\n",
       "</div>"
      ],
      "text/plain": [
       "   state               cursor  Counter\n",
       "23    CA  2967455687447162368     1901"
      ]
     },
     "execution_count": 149,
     "metadata": {},
     "output_type": "execute_result"
    }
   ],
   "source": [
    "State_by_jobs.iloc[State_by_jobs.index[State_by_jobs['Counter'] == max(State_by_jobs['Counter'])].tolist()[0:4]]"
   ]
  },
  {
   "cell_type": "code",
   "execution_count": 150,
   "metadata": {},
   "outputs": [],
   "source": [
    "counter_value = 5\n",
    "Counter = sorted(State_by_jobs['Counter'], reverse = True)[0:counter_value]            #sorting to get Top Values\n",
    "States = []\n",
    "for i in range(0,len(Counter)):                                                 # looping to get States with respect to Counter\n",
    "    States.append(State_by_jobs.loc[State_by_jobs['Counter'] == Counter[i] ,'state'].iloc[0]) "
   ]
  },
  {
   "cell_type": "code",
   "execution_count": 151,
   "metadata": {},
   "outputs": [
    {
     "data": {
      "image/png": "[encoded data removed]",
      "text/plain": [
       "<Figure size 432x288 with 1 Axes>"
      ]
     },
     "metadata": {
      "needs_background": "light"
     },
     "output_type": "display_data"
    }
   ],
   "source": [
    "plt.bar(States,Counter, width = 0.3, color = 'magenta')                            #plotting a bar chart\n",
    "plt.title(f'Top {counter_value} states where maximum data science jobs are posted for year 2019 feb to Oct')\n",
    "plt.xticks(rotation = 90)\n",
    "plt.xlabel('State Name')\n",
    "plt.ylabel('No of Jobs')\n",
    "plt.show()"
   ]
  },
  {
   "cell_type": "markdown",
   "metadata": {},
   "source": [
    "https://insights.dice.com/2020/05/26/data-scientist-salary-starting-average-which-states-pay-most/ <br>\n",
    "The information on this Site depicts the same information in 2020 , and have almost the same result"
   ]
  },
  {
   "cell_type": "code",
   "execution_count": 152,
   "metadata": {},
   "outputs": [],
   "source": [
    "city_by_jobs = data.groupby(['city']).sum().reset_index()                        #creating a df"
   ]
  },
  {
   "cell_type": "code",
   "execution_count": 153,
   "metadata": {},
   "outputs": [
    {
     "data": {
      "text/html": [
       "<div>\n",
       "<style scoped>\n",
       "    .dataframe tbody tr th:only-of-type {\n",
       "        vertical-align: middle;\n",
       "    }\n",
       "\n",
       "    .dataframe tbody tr th {\n",
       "        vertical-align: top;\n",
       "    }\n",
       "\n",
       "    .dataframe thead th {\n",
       "        text-align: right;\n",
       "    }\n",
       "</style>\n",
       "<table border=\"1\" class=\"dataframe\">\n",
       "  <thead>\n",
       "    <tr style=\"text-align: right;\">\n",
       "      <th></th>\n",
       "      <th>city</th>\n",
       "      <th>cursor</th>\n",
       "      <th>Counter</th>\n",
       "    </tr>\n",
       "  </thead>\n",
       "  <tbody>\n",
       "    <tr>\n",
       "      <th>487</th>\n",
       "      <td>New York</td>\n",
       "      <td>1456175091203758592</td>\n",
       "      <td>933</td>\n",
       "    </tr>\n",
       "  </tbody>\n",
       "</table>\n",
       "</div>"
      ],
      "text/plain": [
       "         city               cursor  Counter\n",
       "487  New York  1456175091203758592      933"
      ]
     },
     "execution_count": 153,
     "metadata": {},
     "output_type": "execute_result"
    }
   ],
   "source": [
    "city_by_jobs.iloc[city_by_jobs.index[city_by_jobs['Counter'] == max(city_by_jobs['Counter'])].tolist()[0:4]]"
   ]
  },
  {
   "cell_type": "code",
   "execution_count": 154,
   "metadata": {},
   "outputs": [],
   "source": [
    "counter_value = 5\n",
    "Counter = sorted(city_by_jobs['Counter'], reverse = True)[0:counter_value]        #sorting to get Top Values\n",
    "Cities = []\n",
    "for i in range(0,len(Counter)):                                                # looping to get Cities with respect to Counter \n",
    "    Cities.append(city_by_jobs.loc[city_by_jobs['Counter'] == Counter[i] ,'city'].iloc[0])"
   ]
  },
  {
   "cell_type": "code",
   "execution_count": 155,
   "metadata": {
    "scrolled": true
   },
   "outputs": [
    {
     "data": {
      "image/png": "[encoded data removed]",
      "text/plain": [
       "<Figure size 432x288 with 1 Axes>"
      ]
     },
     "metadata": {
      "needs_background": "light"
     },
     "output_type": "display_data"
    }
   ],
   "source": [
    "plt.bar(Cities,Counter, width = 0.3,color = 'red')                            #plotting a bar chart\n",
    "plt.title(f'Top {counter_value} Cities where maximum data science jobs are posted for 2019 from feb to Oct' )\n",
    "plt.xticks(rotation = 90)\n",
    "plt.xlabel('City Name')\n",
    "plt.ylabel('No of Jobs')\n",
    "plt.show()"
   ]
  },
  {
   "cell_type": "markdown",
   "metadata": {},
   "source": [
    "https://quanthub.com/is-there-a-data-scientist-shortage-in-2019/<br>\n",
    "This above link resembles the analysis done for the above plot."
   ]
  },
  {
   "cell_type": "code",
   "execution_count": 156,
   "metadata": {},
   "outputs": [],
   "source": [
    "titles = data.groupby(['job_title']).sum().reset_index()"
   ]
  },
  {
   "cell_type": "code",
   "execution_count": 157,
   "metadata": {},
   "outputs": [
    {
     "data": {
      "text/html": [
       "<div>\n",
       "<style scoped>\n",
       "    .dataframe tbody tr th:only-of-type {\n",
       "        vertical-align: middle;\n",
       "    }\n",
       "\n",
       "    .dataframe tbody tr th {\n",
       "        vertical-align: top;\n",
       "    }\n",
       "\n",
       "    .dataframe thead th {\n",
       "        text-align: right;\n",
       "    }\n",
       "</style>\n",
       "<table border=\"1\" class=\"dataframe\">\n",
       "  <thead>\n",
       "    <tr style=\"text-align: right;\">\n",
       "      <th></th>\n",
       "      <th>job_title</th>\n",
       "      <th>cursor</th>\n",
       "      <th>Counter</th>\n",
       "    </tr>\n",
       "  </thead>\n",
       "  <tbody>\n",
       "    <tr>\n",
       "      <th>324</th>\n",
       "      <td>Data Scientist</td>\n",
       "      <td>4511192574777667072</td>\n",
       "      <td>2889</td>\n",
       "    </tr>\n",
       "  </tbody>\n",
       "</table>\n",
       "</div>"
      ],
      "text/plain": [
       "          job_title               cursor  Counter\n",
       "324  Data Scientist  4511192574777667072     2889"
      ]
     },
     "execution_count": 157,
     "metadata": {},
     "output_type": "execute_result"
    }
   ],
   "source": [
    "titles.iloc[titles.index[titles['Counter'] == max(titles['Counter'])].tolist()[0:4]] #maximum job_titles for Data Science jobs"
   ]
  },
  {
   "cell_type": "code",
   "execution_count": 158,
   "metadata": {},
   "outputs": [],
   "source": [
    "job_board = data.groupby(['job_board']).sum().reset_index()                   #creating a df"
   ]
  },
  {
   "cell_type": "code",
   "execution_count": 159,
   "metadata": {},
   "outputs": [
    {
     "data": {
      "text/html": [
       "<div>\n",
       "<style scoped>\n",
       "    .dataframe tbody tr th:only-of-type {\n",
       "        vertical-align: middle;\n",
       "    }\n",
       "\n",
       "    .dataframe tbody tr th {\n",
       "        vertical-align: top;\n",
       "    }\n",
       "\n",
       "    .dataframe thead th {\n",
       "        text-align: right;\n",
       "    }\n",
       "</style>\n",
       "<table border=\"1\" class=\"dataframe\">\n",
       "  <thead>\n",
       "    <tr style=\"text-align: right;\">\n",
       "      <th></th>\n",
       "      <th>job_board</th>\n",
       "      <th>cursor</th>\n",
       "      <th>Counter</th>\n",
       "    </tr>\n",
       "  </thead>\n",
       "  <tbody>\n",
       "    <tr>\n",
       "      <th>7</th>\n",
       "      <td>www.indeed.com</td>\n",
       "      <td>7739785899828563968</td>\n",
       "      <td>4955</td>\n",
       "    </tr>\n",
       "  </tbody>\n",
       "</table>\n",
       "</div>"
      ],
      "text/plain": [
       "        job_board               cursor  Counter\n",
       "7  www.indeed.com  7739785899828563968     4955"
      ]
     },
     "execution_count": 159,
     "metadata": {},
     "output_type": "execute_result"
    }
   ],
   "source": [
    "job_board.iloc[job_board.index[job_board['Counter'] == max(job_board['Counter'])].tolist()[0:4]]"
   ]
  },
  {
   "cell_type": "code",
   "execution_count": 160,
   "metadata": {},
   "outputs": [],
   "source": [
    "counter_value = 5\n",
    "Counter = sorted(job_board['Counter'], reverse = True)[0:counter_value]      #sorting to get Top Values\n",
    "job_board_l = []\n",
    "for i in range(0,len(Counter)):                                         # looping to get job_board with respect to Counter \n",
    "    job_board_l.append(job_board.loc[job_board['Counter'] == Counter[i] ,'job_board'].iloc[0])"
   ]
  },
  {
   "cell_type": "code",
   "execution_count": 161,
   "metadata": {},
   "outputs": [
    {
     "data": {
      "image/png": "[encoded data removed]",
      "text/plain": [
       "<Figure size 432x288 with 1 Axes>"
      ]
     },
     "metadata": {
      "needs_background": "light"
     },
     "output_type": "display_data"
    }
   ],
   "source": [
    "plt.bar(job_board_l,Counter, width = 0.3,color = 'green')                  #Plotting the graph\n",
    "plt.title(f'Top {counter_value} job_boards where maximum data science jobs are posted for 2019 from feb to Oct' )\n",
    "plt.xticks(rotation = 90)\n",
    "plt.xlabel('Job_board')\n",
    "plt.ylabel('No of Jobs')\n",
    "plt.show()"
   ]
  },
  {
   "cell_type": "code",
   "execution_count": 162,
   "metadata": {},
   "outputs": [],
   "source": [
    "job_type = data.groupby(['job_type']).sum().reset_index()        #creating a df"
   ]
  },
  {
   "cell_type": "markdown",
   "metadata": {},
   "source": [
    "**Ordering by Counter in Descending order**"
   ]
  },
  {
   "cell_type": "code",
   "execution_count": 163,
   "metadata": {},
   "outputs": [],
   "source": [
    "job_type.sort_values('Counter',ascending = False, inplace = True)"
   ]
  },
  {
   "cell_type": "markdown",
   "metadata": {},
   "source": [
    "**Replaced Undefined with second most value in job_type**"
   ]
  },
  {
   "cell_type": "code",
   "execution_count": 164,
   "metadata": {},
   "outputs": [],
   "source": [
    "job_type['job_type'].replace('Undefined',job_type['job_type'][1], inplace = True)"
   ]
  },
  {
   "cell_type": "code",
   "execution_count": 165,
   "metadata": {},
   "outputs": [
    {
     "data": {
      "text/html": [
       "<div>\n",
       "<style scoped>\n",
       "    .dataframe tbody tr th:only-of-type {\n",
       "        vertical-align: middle;\n",
       "    }\n",
       "\n",
       "    .dataframe tbody tr th {\n",
       "        vertical-align: top;\n",
       "    }\n",
       "\n",
       "    .dataframe thead th {\n",
       "        text-align: right;\n",
       "    }\n",
       "</style>\n",
       "<table border=\"1\" class=\"dataframe\">\n",
       "  <thead>\n",
       "    <tr style=\"text-align: right;\">\n",
       "      <th></th>\n",
       "      <th>job_type</th>\n",
       "      <th>cursor</th>\n",
       "      <th>Counter</th>\n",
       "    </tr>\n",
       "  </thead>\n",
       "  <tbody>\n",
       "    <tr>\n",
       "      <th>0</th>\n",
       "      <td>Contract</td>\n",
       "      <td>7.600742e+17</td>\n",
       "      <td>488.0</td>\n",
       "    </tr>\n",
       "    <tr>\n",
       "      <th>1</th>\n",
       "      <td>Full Time</td>\n",
       "      <td>1.484795e+19</td>\n",
       "      <td>9504.0</td>\n",
       "    </tr>\n",
       "    <tr>\n",
       "      <th>2</th>\n",
       "      <td>Internship</td>\n",
       "      <td>3.113482e+15</td>\n",
       "      <td>2.0</td>\n",
       "    </tr>\n",
       "    <tr>\n",
       "      <th>3</th>\n",
       "      <td>Part Time</td>\n",
       "      <td>9.392782e+15</td>\n",
       "      <td>6.0</td>\n",
       "    </tr>\n",
       "  </tbody>\n",
       "</table>\n",
       "</div>"
      ],
      "text/plain": [
       "     job_type        cursor  Counter\n",
       "0    Contract  7.600742e+17    488.0\n",
       "1   Full Time  1.484795e+19   9504.0\n",
       "2  Internship  3.113482e+15      2.0\n",
       "3   Part Time  9.392782e+15      6.0"
      ]
     },
     "execution_count": 165,
     "metadata": {},
     "output_type": "execute_result"
    }
   ],
   "source": [
    "final_job_type = job_type.groupby(['job_type']).sum().reset_index()                # creating a df\n",
    "final_job_type"
   ]
  },
  {
   "cell_type": "markdown",
   "metadata": {},
   "source": [
    "# Feature Extraction"
   ]
  },
  {
   "cell_type": "code",
   "execution_count": 166,
   "metadata": {},
   "outputs": [],
   "source": [
    "data['month'] = [data['crawl_timestamp'][i].month for i in range(0,len(data['crawl_timestamp']))]  #creating a new month column"
   ]
  },
  {
   "cell_type": "code",
   "execution_count": 167,
   "metadata": {},
   "outputs": [],
   "source": [
    "Monthdata = data.groupby('month').sum().reset_index()      # creating a df Monthdata"
   ]
  },
  {
   "cell_type": "code",
   "execution_count": 168,
   "metadata": {},
   "outputs": [
    {
     "data": {
      "image/png": "[encoded data removed]",
      "text/plain": [
       "<Figure size 432x288 with 1 Axes>"
      ]
     },
     "metadata": {
      "needs_background": "light"
     },
     "output_type": "display_data"
    }
   ],
   "source": [
    "plt.plot(Monthdata['month'].tolist(),Monthdata['Counter'].tolist(),color = 'purple')  \n",
    "plt.title('Demand in Data Science Jobs for year 2019 Feb to Oct') \n",
    "plt.xlabel('Month')\n",
    "plt.ylabel('No of Jobs')\n",
    "plt.show()"
   ]
  },
  {
   "cell_type": "markdown",
   "metadata": {},
   "source": [
    "# Conclusion\n"
   ]
  },
  {
   "cell_type": "markdown",
   "metadata": {},
   "source": [
    "URL is highly correlated to job_board that is with change in URL the job_board also changes, Computer or Internet is the category where most of the data sciecnce jobs were in 2019,and Top 5 Domains that have dataScience Jobs are Computer-or-internet, Computer Jobs ,PSS ,Engineering Architecture,Manufacturing ,and Mechanical. In USA, Maximum numbers of jobs in 2019 were in California state , and Top 5 States with maximum No of Data Scientist Jobs were in California, New York, virginia ,Texas, and Massachusetts.Whereas, when we talk about Cities , Maximum no of jobs in 2019 were in New York City, and after that Top 5 Cities with maximum no of jobs are New York,San Francisco, Chicago, Boston, and then Seattle. Most of the Data Science jobs are with Title Data Scientist, and most of the Jobs are posted on Indeed.com, With ranking for the portals are as such Indeed, careerbuilders,monster, the ladders, and dice. Most of the Positions types are Full Time. If we compare along the months in the Year 2019, Graph shows that there was a sudden increase in no of jobs in June, and started decreasing in august, so there are high Vacancy at this time of the year.\n",
    "\n"
   ]
  },
  {
   "cell_type": "code",
   "execution_count": null,
   "metadata": {},
   "outputs": [],
   "source": []
  }
 ],
 "metadata": {
  "kernelspec": {
   "display_name": "Python 3",
   "language": "python",
   "name": "python3"
  },
  "language_info": {
   "codemirror_mode": {
    "name": "ipython",
    "version": 3
   },
   "file_extension": ".py",
   "mimetype": "text/x-python",
   "name": "python",
   "nbconvert_exporter": "python",
   "pygments_lexer": "ipython3",
   "version": "3.8.5"
  }
 },
 "nbformat": 4,
 "nbformat_minor": 4
}
